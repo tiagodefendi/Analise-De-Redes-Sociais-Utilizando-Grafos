{
  "cells": [
    {
      "cell_type": "markdown",
      "metadata": {
        "id": "J47QtyDhFnH1"
      },
      "source": [
        "# Exercício: Análise de Importância na Wikipedia com PageRank\n",
        "\n",
        "## Contexto\n",
        "\n",
        "Você é um pesquisador analisando a estrutura de conhecimento da Wikipedia usando o dataset WikiSpeedia. Esta rede representa artigos interconectados através de hyperlinks.Seu objetivo é identificar os artigos mais \"importantes\" usando o algoritmo PageRank e comparar com outras medidas de centralidade.\n",
        "\n",
        "## Sobre as Categorias do Dataset\n",
        "\n",
        "O dataset WikiSpeedia inclui um sistema de categorização hierárquica dos artigos. Cada artigo pode pertencer a uma ou mais categorias, organizadas em níveis (ex: \"Geography.Countries.United_States\"). Para agrupar por área de conhecimento, você deverá:\n",
        "\n",
        "1. Utilizar o arquivo categories.tsv que mapeia cada artigo para suas categorias\n",
        "\n",
        "2. Definir áreas de conhecimento amplas agrupando categorias específicas\n",
        "\n",
        "3. Criar um mapeamento entre categorias detalhadas e áreas principais\n",
        "\n",
        "### Áreas de Conhecimento Sugeridas:\n",
        "\n",
        "- Ciências: Mathematics, Physics, Chemistry, Biology, Astronomy, Science\n",
        "\n",
        "- Geografia: Geography, Countries, Cities, Rivers, Mountains, Places\n",
        "\n",
        "- História: History, Ancient_history, Medieval_history, War, Historical_events\n",
        "\n",
        "- Arte e Cultura: Art, Music, Literature, Film, Culture, Entertainment\n",
        "\n",
        "- Tecnologia: Technology, Computing, Internet, Engineering, Invention\n",
        "\n",
        "- Sociedade: Society, Politics, Law, Education, Philosophy\n"
      ]
    },
    {
      "cell_type": "code",
      "execution_count": null,
      "metadata": {
        "colab": {
          "base_uri": "https://localhost:8080/"
        },
        "id": "4c1spH9dE0QY",
        "outputId": "49c8efe1-b6bf-404e-c562-917eeb091adb"
      },
      "outputs": [
        {
          "name": "stdout",
          "output_type": "stream",
          "text": [
            "--2025-10-02 22:39:07--  https://snap.stanford.edu/data/wikispeedia/wikispeedia_paths-and-graph.tar.gz\n",
            "Resolving snap.stanford.edu (snap.stanford.edu)... 171.64.75.80\n",
            "Connecting to snap.stanford.edu (snap.stanford.edu)|171.64.75.80|:443... connected.\n",
            "HTTP request sent, awaiting response... 200 OK\n",
            "Length: 9901821 (9.4M) [application/x-gzip]\n",
            "Saving to: ‘wikispeedia_paths-and-graph.tar.gz’\n",
            "\n",
            "wikispeedia_paths-a 100%[===================>]   9.44M  1.82MB/s    in 5.2s    \n",
            "\n",
            "2025-10-02 22:39:13 (1.82 MB/s) - ‘wikispeedia_paths-and-graph.tar.gz’ saved [9901821/9901821]\n",
            "\n"
          ]
        }
      ],
      "source": [
        "!wget https://snap.stanford.edu/data/wikispeedia/wikispeedia_paths-and-graph.tar.gz"
      ]
    },
    {
      "cell_type": "code",
      "execution_count": null,
      "metadata": {
        "id": "LjG3ppLKFB_8"
      },
      "outputs": [],
      "source": [
        "!tar xzf ./wikispeedia_paths-and-graph.tar.gz"
      ]
    },
    {
      "cell_type": "code",
      "execution_count": null,
      "metadata": {
        "id": "AX1uLheEGgYy"
      },
      "outputs": [],
      "source": [
        "import pandas as pd\n",
        "\n",
        "# Utilizar o arquivo categories.tsv que mapeia cada artigo para suas categorias\n",
        "categorias = pd.read_csv('./wikispeedia_paths-and-graph/categories.tsv', sep='\\t', header=None, names=['article', 'category'])\n",
        "\n",
        "# Definir áreas de conhecimento amplas agrupando categorias específicas\n",
        "areas_de_conhecimento = {\n",
        "    'Ciências': ['Mathematics', 'Physics', 'Chemistry', 'Biology', 'Astronomy', 'Science'],\n",
        "    'Geografia': ['Geography', 'Countries', 'Cities', 'Rivers', 'Mountains', 'Places'],\n",
        "    'História': ['History', 'Ancient_history', 'Medieval_history', 'War', 'Historical_events'],\n",
        "    'Arte e Cultura': ['Art', 'Music', 'Literature', 'Film', 'Culture', 'Entertainment'],\n",
        "    'Tecnologia': ['Technology', 'Computing', 'Internet', 'Engineering', 'Invention'],\n",
        "    'Sociedade': ['Society', 'Politics', 'Law', 'Education', 'Philosophy']\n",
        "}\n",
        "\n",
        "# Criar um mapeamento entre categorias detalhadas e áreas principais\n",
        "def mapear_area(categoria):\n",
        "    if pd.isna(categoria):\n",
        "        return None\n",
        "    for area, cats in areas_de_conhecimento.items():\n",
        "        for c in cats:\n",
        "            if c.lower() in categoria.lower():\n",
        "                return area\n",
        "    return None\n",
        "\n",
        "# Adicionar coluna com a area geral correspondente\n",
        "categorias['area_principal'] = categorias['category'].apply(mapear_area)\n"
      ]
    },
    {
      "cell_type": "code",
      "execution_count": null,
      "metadata": {
        "colab": {
          "base_uri": "https://localhost:8080/"
        },
        "id": "iN4CvAnzPFRz",
        "outputId": "e467511f-6462-40ad-b4b0-40eb46592bf0"
      },
      "outputs": [
        {
          "name": "stdout",
          "output_type": "stream",
          "text": [
            "area_principal\n",
            "Geografia         0.000448\n",
            "Sociedade         0.000341\n",
            "História          0.000203\n",
            "Ciências          0.000177\n",
            "Arte e Cultura    0.000170\n",
            "Tecnologia        0.000107\n",
            "Name: pagerank, dtype: float64\n"
          ]
        }
      ],
      "source": [
        "import networkx as nx\n",
        "\n",
        "# Carregar ligacoes entre artigos\n",
        "links = pd.read_csv('./wikispeedia_paths-and-graph/links.tsv', sep='\\t', header=None, names=['source', 'target'])\n",
        "\n",
        "G = nx.DiGraph()\n",
        "for _, row in links.iterrows():\n",
        "    G.add_edge(row['source'], row['target'])\n",
        "\n",
        "pagerank = nx.pagerank(G)\n",
        "\n",
        "# Juntar PageRank ao dataframe de categorias\n",
        "categorias['pagerank'] = categorias['article'].map(pagerank)\n",
        "\n",
        "pagerank_area = categorias.groupby('area_principal')['pagerank'].mean().sort_values(ascending=False)\n",
        "print(pagerank_area)\n"
      ]
    },
    {
      "cell_type": "markdown",
      "metadata": {
        "id": "ml744StiGfB6"
      },
      "source": [
        "---\n",
        "\n",
        "## Parte 1: Análise Básica do PageRank\n",
        "\n",
        "**Questão 1**: Após calcular o PageRank para todos os artigos, quais são os 10 artigos com maior score? Liste-os em ordem decrescente de importância.\n",
        "\n",
        "**Questão 2**: Analisando os resultados do top 10, que áreas de conhecimento parecem\n",
        "dominar? Por que você acha que isso acontece?\n",
        "\n",
        "**Questão 3**: Teste o algoritmo com diferentes fatores de amortecimento (α = 0,5, 0,85 e 0,95). Como mudam os rankings? Explique o efeito deste parâmetro."
      ]
    },
    {
      "cell_type": "code",
      "execution_count": null,
      "metadata": {
        "colab": {
          "base_uri": "https://localhost:8080/"
        },
        "id": "PKFErKg_FMF_",
        "outputId": "edeb5ef8-4f3d-4ca3-aba9-89e6390c9142"
      },
      "outputs": [
        {
          "name": "stdout",
          "output_type": "stream",
          "text": [
            "               article  pagerank\n",
            "4860     United_States  0.009559\n",
            "4861     United_States  0.009559\n",
            "1784            France  0.006418\n",
            "1785            France  0.006418\n",
            "1628            Europe  0.006335\n",
            "4854    United_Kingdom  0.006230\n",
            "4855    United_Kingdom  0.006230\n",
            "4856    United_Kingdom  0.006230\n",
            "1576  English_language  0.004861\n",
            "1929           Germany  0.004821\n"
          ]
        }
      ],
      "source": [
        "# Questão 1: Após calcular o PageRank para todos os artigos, quais são os 10 artigos com maior score? Liste-os em ordem decrescente de importância.\n",
        "top_10_artigos = categorias.nlargest(10, 'pagerank')\n",
        "print(top_10_artigos[['article', 'pagerank']])"
      ]
    },
    {
      "cell_type": "markdown",
      "metadata": {
        "id": "o1AUZx1rRHiX"
      },
      "source": [
        "Questão 2: Analisando os resultados do top 10, que áreas de conhecimento parecem dominar? Por que você acha que isso acontece?\n",
        "\n",
        "No Top 10, a area Geografia domina porque paises e linguas sao nós altamente conectados, funcionando como atalhos universais dentro da rede de artigos."
      ]
    },
    {
      "cell_type": "code",
      "execution_count": null,
      "metadata": {
        "colab": {
          "base_uri": "https://localhost:8080/"
        },
        "id": "9D6arldmRWpR",
        "outputId": "aeb9f548-7476-447b-aa02-53a03d180c5f"
      },
      "outputs": [
        {
          "name": "stdout",
          "output_type": "stream",
          "text": [
            "\n",
            "\n",
            "Top 10 artigos com alpha = 0.5:\n",
            "             article  pagerank_alpha_0.5\n",
            "4860   United_States            0.006918\n",
            "4861   United_States            0.006918\n",
            "4854  United_Kingdom            0.004080\n",
            "4855  United_Kingdom            0.004080\n",
            "4856  United_Kingdom            0.004080\n",
            "1628          Europe            0.003943\n",
            "1784          France            0.003861\n",
            "1785          France            0.003861\n",
            "1572         England            0.003327\n",
            "5145    World_War_II            0.003056\n",
            "\n",
            "\n",
            "Top 10 artigos com alpha = 0.85:\n",
            "               article  pagerank_alpha_0.85\n",
            "4860     United_States             0.009559\n",
            "4861     United_States             0.009559\n",
            "1784            France             0.006418\n",
            "1785            France             0.006418\n",
            "1628            Europe             0.006335\n",
            "4854    United_Kingdom             0.006230\n",
            "4855    United_Kingdom             0.006230\n",
            "4856    United_Kingdom             0.006230\n",
            "1576  English_language             0.004861\n",
            "1929           Germany             0.004821\n",
            "\n",
            "\n",
            "Top 10 artigos com alpha = 0.95:\n",
            "               article  pagerank_alpha_0.95\n",
            "4860     United_States             0.009933\n",
            "4861     United_States             0.009933\n",
            "1784            France             0.007227\n",
            "1785            France             0.007227\n",
            "1628            Europe             0.007029\n",
            "4854    United_Kingdom             0.006786\n",
            "4855    United_Kingdom             0.006786\n",
            "4856    United_Kingdom             0.006786\n",
            "1576  English_language             0.005449\n",
            "1929           Germany             0.005430\n"
          ]
        }
      ],
      "source": [
        "# Questão 3: Teste o algoritmo com diferentes fatores de amortecimento (α = 0,5, 0,85 e 0,95). Como mudam os rankings? Explique o efeito deste parâmetro.\n",
        "for alpha in [0.5, 0.85, 0.95]:\n",
        "    pagerank = nx.pagerank(G, alpha=alpha)\n",
        "    categorias['pagerank_alpha_' + str(alpha)] = categorias['article'].map(pagerank)\n",
        "    top_10_artigos_alpha = categorias.nlargest(10, 'pagerank_alpha_' + str(alpha))\n",
        "    print(\"\\n\\nTop 10 artigos com alpha = {}:\".format(alpha))\n",
        "    print(top_10_artigos_alpha[['article', 'pagerank_alpha_' + str(alpha)]])\n"
      ]
    },
    {
      "cell_type": "markdown",
      "metadata": {
        "id": "5SBHehihRnZn"
      },
      "source": [
        "Questão 3: Teste o algoritmo com diferentes fatores de amortecimento (α = 0,5, 0,85 e 0,95). Como mudam os rankings? Explique o efeito deste parâmetro.\n",
        "\n",
        "Com α baixo, o ranking fica mais democratico e aparecem artigos relevantes mas menos conectados. Já com α alto, o ranking fica mais elitista, privilegiando apenas os hubs com muitas conexoes. Por fim, o α = 0.85 costuma ser o melhor compromisso entre diversidade e representatividade estrutural."
      ]
    },
    {
      "cell_type": "markdown",
      "metadata": {
        "id": "toEyxrisSOs9"
      },
      "source": [
        "---\n",
        "\n",
        "Parte 2: Comparação com Outras Métricas de Centralidade\n",
        "\n",
        "Questão 4: Calcule a centralidade de grau de entrada (in-degree) para todos os artigos. Quais são os 10 artigos com maior grau de entrada?\n",
        "\n",
        "Questão 5: Compare as listas do top 10 do PageRank e do top 10 do grau de entrada. Quais artigos aparecem em ambas? Quais aparecem apenas em uma das listas?\n",
        "\n",
        "Questão 6: Para os artigos que aparecem no topo do PageRank mas não no topo do grau de entrada (ou vice-versa), qual é a possível explicação? O que cada métrica está capturando de diferente?"
      ]
    },
    {
      "cell_type": "code",
      "execution_count": null,
      "metadata": {
        "colab": {
          "base_uri": "https://localhost:8080/"
        },
        "id": "vzny3nTJSORX",
        "outputId": "d288ebcb-9f20-43bb-96b1-ef1b133e0a05"
      },
      "outputs": [
        {
          "name": "stdout",
          "output_type": "stream",
          "text": [
            "Top 10 artigos com maior grau de entrada:\n",
            "             article  in_degree\n",
            "4860   United_States     1551.0\n",
            "4861   United_States     1551.0\n",
            "4854  United_Kingdom      972.0\n",
            "4855  United_Kingdom      972.0\n",
            "4856  United_Kingdom      972.0\n",
            "1784          France      959.0\n",
            "1785          France      959.0\n",
            "1628          Europe      933.0\n",
            "1572         England      751.0\n",
            "5145    World_War_II      751.0\n"
          ]
        }
      ],
      "source": [
        "# Questão 4: Calcule a centralidade de grau de entrada (in-degree) para todos os artigos. Quais são os 10 artigos com maior grau de entrada?\n",
        "\n",
        "in_degree = dict(G.in_degree())\n",
        "categorias['in_degree'] = categorias['article'].map(in_degree)\n",
        "top_10_artigos_in_degree = categorias.nlargest(10, 'in_degree')\n",
        "print(\"Top 10 artigos com maior grau de entrada:\")\n",
        "print(top_10_artigos_in_degree[['article', 'in_degree']])"
      ]
    },
    {
      "cell_type": "markdown",
      "metadata": {
        "id": "wmtahemQSmHF"
      },
      "source": [
        "Questão 5: Compare as listas do top 10 do PageRank e do top 10 do grau de entrada. Quais artigos aparecem em ambas? Quais aparecem apenas em uma das listas?\n",
        "\n",
        "No top 10 de PageRank e grau de entrada aparecem United_States, United_Kingdom, France e Europe. English_language e Germany aparecem só no PageRank, England e World_War_II só no grau de entrada. O grau de entrada mede popularidade, o PageRank mede prestígio."
      ]
    },
    {
      "cell_type": "markdown",
      "metadata": {
        "id": "xsu3DIMaTE1n"
      },
      "source": [
        "Questão 6: Para os artigos que aparecem no topo do PageRank mas não no topo do grau de entrada (ou vice-versa), qual é a possível explicação? O que cada métrica está capturando de diferente?\n",
        "\n",
        "Artigos no topo do PageRank mas não no grau de entrada, como English_language e Germany, recebem links de artigos importantes, aumentando seu prestígio mesmo com menos links. Já artigos com alto grau de entrada mas menor PageRank, como England e World_War_II, recebem muitos links de artigos menos relevantes. Ou seja, o grau de entrada mede popularidade bruta, enquanto o PageRank mede prestígio ponderado pela importância de quem linka."
      ]
    },
    {
      "cell_type": "markdown",
      "metadata": {
        "id": "MkpRIXP0TLzO"
      },
      "source": [
        "---\n",
        "\n",
        "Parte 3: Análise por Áreas de Conhecimento\n",
        "\n",
        "Questão 7: Agrupe os artigos por área de conhecimento (usando o mapeamento definido) e calcule o PageRank médio para cada área. Quais áreas têm os artigos mais \"importantes\" na rede?\n",
        "\n",
        "Questão 8: Escolha três áreas diferentes e compare um artigo de alta importância de cada uma. O que esses artigos têm em comum em termos de sua posição na rede?\n",
        "\n",
        "Questão 9: Existem áreas de conhecimento cujos artigos têm consistentemente baixo PageRank? O que isso pode indicar sobre a estrutura da rede?"
      ]
    },
    {
      "cell_type": "code",
      "execution_count": null,
      "metadata": {
        "colab": {
          "base_uri": "https://localhost:8080/"
        },
        "id": "JzBcPl9rTWe9",
        "outputId": "08f1f2fb-f356-4d0d-8a1f-6a13fade564a"
      },
      "outputs": [
        {
          "name": "stdout",
          "output_type": "stream",
          "text": [
            "Artigos mais importantes por área:\n",
            "area_principal\n",
            "Geografia         0.000448\n",
            "Sociedade         0.000341\n",
            "História          0.000203\n",
            "Ciências          0.000177\n",
            "Arte e Cultura    0.000170\n",
            "Tecnologia        0.000107\n",
            "Name: pagerank, dtype: float64\n"
          ]
        }
      ],
      "source": [
        "# Questão 7: Agrupe os artigos por área de conhecimento (usando o mapeamento definido) e calcule o PageRank médio para cada área.\n",
        "# Quais áreas têm os artigos mais \"importantes\" na rede?\n",
        "\n",
        "pagerank_area = categorias.groupby('area_principal')['pagerank'].mean().sort_values(ascending=False)\n",
        "print(\"Artigos mais importantes por área:\")\n",
        "print(pagerank_area)"
      ]
    },
    {
      "cell_type": "markdown",
      "metadata": {
        "id": "oxI1F2S8Tk2H"
      },
      "source": [
        "Os artigos da área Geografia têm o maior PageRank médio, seguidos por Sociedade e História. Isso indica que, na rede, artigos sobre países, continentes e tópicos sociais são mais centrais e influentes, funcionando como hubs que conectam diversos outros artigos. As áreas Ciências, Arte e Cultura e Tecnologia aparecem com menor PageRank médio, mostrando que seus artigos são menos centrais na estrutura global da rede.\n"
      ]
    },
    {
      "cell_type": "code",
      "execution_count": null,
      "metadata": {
        "colab": {
          "base_uri": "https://localhost:8080/"
        },
        "id": "W0dVYwOiT5m0",
        "outputId": "ee1fb91a-8f73-4915-eff4-80762e88e8b2"
      },
      "outputs": [
        {
          "name": "stdout",
          "output_type": "stream",
          "text": [
            "\n",
            "\n",
            "Artigos mais importantes na área Ciências:\n",
            "        article  pagerank\n",
            "4687  Time_zone  0.003463\n",
            "\n",
            "\n",
            "Artigos mais importantes na área Arte e Cultura:\n",
            "               article  pagerank\n",
            "1576  English_language  0.004861\n",
            "\n",
            "\n",
            "Artigos mais importantes na área Tecnologia:\n",
            "         article  pagerank\n",
            "4541  Television  0.001074\n"
          ]
        }
      ],
      "source": [
        "# Questão 8: Escolha três áreas diferentes e compare um artigo de alta importância de cada uma.\n",
        "# O que esses artigos têm em comum em termos de sua posição na rede?\n",
        "\n",
        "areas_escolhidas = ['Ciências', 'Arte e Cultura', 'Tecnologia']\n",
        "for area in areas_escolhidas:\n",
        "    artigos_area = categorias[categorias['area_principal'] == area]\n",
        "    artigo_mais_importante = artigos_area.nlargest(1, 'pagerank')\n",
        "    print(\"\\n\\nArtigos mais importantes na área {}:\".format(area))\n",
        "    print(artigo_mais_importante[['article', 'pagerank']])"
      ]
    },
    {
      "cell_type": "markdown",
      "metadata": {
        "id": "XKdKXA9bUwT2"
      },
      "source": [
        "Todos os três artigos são hubs centrais, recebendo links de muitos outros artigos e conectando tópicos diversos, o que aumenta seu PageRank e os torna influentes na rede, independentemente da área."
      ]
    },
    {
      "cell_type": "code",
      "execution_count": null,
      "metadata": {
        "colab": {
          "base_uri": "https://localhost:8080/"
        },
        "id": "8tygTpIiU07x",
        "outputId": "2ec6118b-3a50-4150-900e-4e35ab854444"
      },
      "outputs": [
        {
          "name": "stdout",
          "output_type": "stream",
          "text": [
            "area_principal\n",
            "Tecnologia        0.000107\n",
            "Arte e Cultura    0.000170\n",
            "Ciências          0.000177\n",
            "História          0.000203\n",
            "Sociedade         0.000341\n",
            "Geografia         0.000448\n",
            "Name: pagerank, dtype: float64\n"
          ]
        }
      ],
      "source": [
        "# Questão 9: Existem áreas de conhecimento cujos artigos têm consistentemente baixo PageRank?\n",
        "# O que isso pode indicar sobre a estrutura da rede?\n",
        "pagerank_area = categorias.groupby('area_principal')['pagerank'].mean().sort_values()\n",
        "print(pagerank_area)"
      ]
    },
    {
      "cell_type": "markdown",
      "metadata": {
        "id": "R-g8VjfzVNn0"
      },
      "source": [
        "As áreas Tecnologia, Arte e Cultura e Ciências têm PageRank médio mais baixo, indicando que seus artigos são menos centrais na rede. Isso sugere que eles recebem menos links ou links de artigos menos influentes, funcionando como tópicos periféricos, enquanto Geografia e Sociedade têm artigos mais centrais e atuam como hubs de referência."
      ]
    },
    {
      "cell_type": "markdown",
      "metadata": {
        "id": "PUz-xkRPVpjL"
      },
      "source": [
        "---\n",
        "\n",
        "Parte 4: Casos de Estudo Específicos\n",
        "\n",
        "Questão 10: Selecione um artigo do top 5 do PageRank e analise sua vizinhança na rede. Ele recebe links de que tipos de artigos? Para onde ele aponta? Isso explica sua alta importância?\n",
        "\n",
        "Questão 11: Encontre um artigo que tenha alto grau de saída (muitos links para outros artigos) mas PageRank médio ou baixo. O que isso nos diz sobre como o PageRank funciona?\n",
        "\n",
        "Questão 12: Identifique um artigo que seja \"ponte\" entre diferentes áreas de conhecimento.Como sua posição na rede se reflete em seu PageRank?"
      ]
    },
    {
      "cell_type": "code",
      "execution_count": null,
      "metadata": {
        "colab": {
          "base_uri": "https://localhost:8080/"
        },
        "id": "LrDpONNYVYJ4",
        "outputId": "8f243634-b66d-46cf-bb0a-845e5f7ced63"
      },
      "outputs": [
        {
          "name": "stdout",
          "output_type": "stream",
          "text": [
            "\n",
            "\n",
            "Vizinhos de United_States:\n",
            "['Abraham_Lincoln', 'Advertising', 'Agriculture', 'American_Civil_War', 'American_English', 'American_Revolutionary_War', 'American_Samoa', 'American_football', 'American_popular_music', 'Amtrak', 'Anguilla', 'Antarctica', 'Antigua_and_Barbuda', 'Apollo_11', 'Arctic_Ocean', 'Argentina', 'Aruba', 'Atlanta%2C_Georgia', 'Atlantic_Ocean', 'Attack_on_Pearl_Harbor', 'Auto_racing', 'Bah%C3%A1%27%C3%AD_Faith', 'Baker_Island', 'Bald_Eagle', 'Baltimore%2C_Maryland', 'Barbados', 'Baseball', 'Basketball', 'Battle_of_Gettysburg', 'Belize', 'Benin', 'Bermuda', 'Boston%2C_Massachusetts', 'Brazil', 'British_Virgin_Islands', 'Broadcasting', 'Brunei', 'Buddhism', 'C%C3%B4te_d%27Ivoire', 'California', 'Cambodia', 'Cameroon', 'Canada', 'Cape_Verde', 'Capitalism', 'Caribbean_Sea', 'Cayman_Islands', 'Chicago', 'China', 'Chinese_language', 'Christopher_Columbus', 'Cinema_of_the_United_States', 'Coal', 'Cold_War', 'Colombia', 'Communism', 'Computer', 'Corporation', 'Costa_Rica', 'Country', 'Crime', 'Cuba', 'Currency', 'Dallas%2C_Texas', 'Denmark', 'Denver%2C_Colorado', 'Desert', 'Detroit%2C_Michigan', 'Dominica', 'Dominican_Republic', 'Ecuador', 'Education', 'Education_in_the_United_States', 'El_Salvador', 'Electronics', 'Elvis_Presley', 'Equatorial_Guinea', 'Erie_Canal', 'Ethnic_group', 'Europe', 'Federal_Bureau_of_Investigation', 'Federated_States_of_Micronesia', 'Film', 'Finance', 'Fine_art', 'Florida', 'Football_%28soccer%29', 'France', 'French_Guiana', 'French_language', 'Gabon', 'George_W._Bush', 'George_Washington', 'German_language', 'Germany', 'Ghana', 'Gibraltar', 'Grand_Canyon', 'Great_Lakes', 'Greece', 'Greenland', 'Grenada', 'Guadeloupe', 'Guam', 'Guatemala', 'Guernsey', 'Guinea', 'Guinea-Bissau', 'Gulf_of_Mexico', 'Guyana', 'Haiti', 'Hinduism', 'Hip_hop_music', 'History_of_slavery', 'Holy_Roman_Empire', 'Honduras', 'Hong_Kong', 'Household_income_in_the_United_States', 'Houston%2C_Texas', 'Howland_Island', 'Ice_hockey', 'Iceland', 'India', 'Indonesia', 'International_Red_Cross_and_Red_Crescent_Movement', 'Internet', 'Interpol', 'Iran', 'Iraq', 'Irish_people', 'Islam', 'Isle_of_Man', 'Italy', 'Jamaica', 'Japan', 'Jarvis_Island', 'Jazz', 'Jersey', 'John_F._Kennedy', 'Johnston_Atoll', 'Judaism', 'Kingman_Reef', 'Kiribati', 'Las_Vegas%2C_Nevada', 'Latin', 'Latin_America', 'Liberal_democracy', 'Liberia', 'List_of_areas_in_the_National_Park_System_of_the_United_States', 'List_of_countries', 'List_of_countries_by_system_of_government', 'List_of_rivers_by_length', 'List_of_sovereign_states', 'Los_Angeles%2C_California', 'Macau', 'Maize', 'Malaysia', 'Manifest_Destiny', 'Marshall_Islands', 'Martin_Luther_King%2C_Jr.', 'Martinique', 'Mauritania', 'Medicine', 'Mexico', 'Miami%2C_Florida', 'Middle_East', 'Midway_Atoll', 'Mining', 'Minneapolis%2C_Minnesota', 'Minnesota', 'Mississippi_River', 'Missouri_River', 'Montserrat', 'Moon', 'Morocco', 'Multiculturalism', 'Music_of_the_United_States', 'NATO', 'Natural_gas', 'Navassa_Island', 'Neil_Armstrong', 'Netherlands', 'Netherlands_Antilles', 'New_York_City', 'Nicaragua', 'Nigeria', 'North_Africa', 'North_America', 'North_Korea', 'Northern_Mariana_Islands', 'Nuclear_power', 'Nuclear_weapon', 'Oceania', 'Olympic_Games', 'Oregon', 'Pacific_Ocean', 'Palau', 'Palmyra_Atoll', 'Panama', 'Peace', 'People%27s_Republic_of_China', 'Peru', 'Petroleum', 'Philadelphia', 'Philippines', 'Plymouth', 'Poetry_of_the_United_States', 'Poland', 'Portugal', 'Potato', 'President_of_the_United_States', 'Property', 'Publishing', 'Puerto_Rico', 'Qatar', 'Religious_Society_of_Friends', 'Republic_of_China', 'Republic_of_Ireland', 'Republic_of_the_Congo', 'Rhode_Island', 'Rhythm_and_blues', 'Rice', 'Rocky_Mountains', 'Russia', 'S%C3%A3o_Tom%C3%A9_and_Pr%C3%ADncipe', 'Saint-Pierre_and_Miquelon', 'Saint_Kitts_and_Nevis', 'Saint_Lucia', 'Saint_Vincent_and_the_Grenadines', 'San_Francisco%2C_California', 'Seattle%2C_Washington', 'Senegal', 'September_11%2C_2001_attacks', 'Sequoia', 'Sierra_Leone', 'Sikhism', 'Singapore', 'Slovakia', 'South_Korea', 'Southern_United_States', 'Soviet_Union', 'Space_Shuttle_Columbia', 'Spain', 'Spanish_language', 'Sport', 'Steel', 'Sudan', 'Supreme_Court_of_the_United_States', 'Suriname', 'Sweden', 'Tanzania', 'Television', 'Tennis', 'Terrorism', 'Thailand', 'The_Bahamas', 'The_Gambia', 'Thomas_Jefferson', 'Time_zone', 'Togo', 'Tourism', 'Treaty_of_Versailles', 'Trinidad_and_Tobago', 'Turkey_%28bird%29', 'Turks_and_Caicos_Islands', 'U.S._state', 'United_Kingdom', 'United_Nations', 'United_States_Bill_of_Rights', 'United_States_Congress', 'United_States_Constitution', 'United_States_Declaration_of_Independence', 'United_States_House_of_Representatives', 'United_States_Senate', 'United_States_Virgin_Islands', 'United_States_dollar', 'Venezuela', 'Vietnam', 'Vietnam_War', 'Volcano', 'Wake_Island', 'Wall_Street', 'Walt_Whitman', 'War', 'Washington%2C_D.C.', 'West_Virginia', 'Western_Sahara', 'Wheat', 'World_Health_Organization', 'World_Heritage_Site', 'World_Trade_Organization', 'World_War_I', 'World_War_II', 'Yellowstone_National_Park']\n",
            "\n",
            "\n",
            "Vizinhos de United_States:\n",
            "['Abraham_Lincoln', 'Advertising', 'Agriculture', 'American_Civil_War', 'American_English', 'American_Revolutionary_War', 'American_Samoa', 'American_football', 'American_popular_music', 'Amtrak', 'Anguilla', 'Antarctica', 'Antigua_and_Barbuda', 'Apollo_11', 'Arctic_Ocean', 'Argentina', 'Aruba', 'Atlanta%2C_Georgia', 'Atlantic_Ocean', 'Attack_on_Pearl_Harbor', 'Auto_racing', 'Bah%C3%A1%27%C3%AD_Faith', 'Baker_Island', 'Bald_Eagle', 'Baltimore%2C_Maryland', 'Barbados', 'Baseball', 'Basketball', 'Battle_of_Gettysburg', 'Belize', 'Benin', 'Bermuda', 'Boston%2C_Massachusetts', 'Brazil', 'British_Virgin_Islands', 'Broadcasting', 'Brunei', 'Buddhism', 'C%C3%B4te_d%27Ivoire', 'California', 'Cambodia', 'Cameroon', 'Canada', 'Cape_Verde', 'Capitalism', 'Caribbean_Sea', 'Cayman_Islands', 'Chicago', 'China', 'Chinese_language', 'Christopher_Columbus', 'Cinema_of_the_United_States', 'Coal', 'Cold_War', 'Colombia', 'Communism', 'Computer', 'Corporation', 'Costa_Rica', 'Country', 'Crime', 'Cuba', 'Currency', 'Dallas%2C_Texas', 'Denmark', 'Denver%2C_Colorado', 'Desert', 'Detroit%2C_Michigan', 'Dominica', 'Dominican_Republic', 'Ecuador', 'Education', 'Education_in_the_United_States', 'El_Salvador', 'Electronics', 'Elvis_Presley', 'Equatorial_Guinea', 'Erie_Canal', 'Ethnic_group', 'Europe', 'Federal_Bureau_of_Investigation', 'Federated_States_of_Micronesia', 'Film', 'Finance', 'Fine_art', 'Florida', 'Football_%28soccer%29', 'France', 'French_Guiana', 'French_language', 'Gabon', 'George_W._Bush', 'George_Washington', 'German_language', 'Germany', 'Ghana', 'Gibraltar', 'Grand_Canyon', 'Great_Lakes', 'Greece', 'Greenland', 'Grenada', 'Guadeloupe', 'Guam', 'Guatemala', 'Guernsey', 'Guinea', 'Guinea-Bissau', 'Gulf_of_Mexico', 'Guyana', 'Haiti', 'Hinduism', 'Hip_hop_music', 'History_of_slavery', 'Holy_Roman_Empire', 'Honduras', 'Hong_Kong', 'Household_income_in_the_United_States', 'Houston%2C_Texas', 'Howland_Island', 'Ice_hockey', 'Iceland', 'India', 'Indonesia', 'International_Red_Cross_and_Red_Crescent_Movement', 'Internet', 'Interpol', 'Iran', 'Iraq', 'Irish_people', 'Islam', 'Isle_of_Man', 'Italy', 'Jamaica', 'Japan', 'Jarvis_Island', 'Jazz', 'Jersey', 'John_F._Kennedy', 'Johnston_Atoll', 'Judaism', 'Kingman_Reef', 'Kiribati', 'Las_Vegas%2C_Nevada', 'Latin', 'Latin_America', 'Liberal_democracy', 'Liberia', 'List_of_areas_in_the_National_Park_System_of_the_United_States', 'List_of_countries', 'List_of_countries_by_system_of_government', 'List_of_rivers_by_length', 'List_of_sovereign_states', 'Los_Angeles%2C_California', 'Macau', 'Maize', 'Malaysia', 'Manifest_Destiny', 'Marshall_Islands', 'Martin_Luther_King%2C_Jr.', 'Martinique', 'Mauritania', 'Medicine', 'Mexico', 'Miami%2C_Florida', 'Middle_East', 'Midway_Atoll', 'Mining', 'Minneapolis%2C_Minnesota', 'Minnesota', 'Mississippi_River', 'Missouri_River', 'Montserrat', 'Moon', 'Morocco', 'Multiculturalism', 'Music_of_the_United_States', 'NATO', 'Natural_gas', 'Navassa_Island', 'Neil_Armstrong', 'Netherlands', 'Netherlands_Antilles', 'New_York_City', 'Nicaragua', 'Nigeria', 'North_Africa', 'North_America', 'North_Korea', 'Northern_Mariana_Islands', 'Nuclear_power', 'Nuclear_weapon', 'Oceania', 'Olympic_Games', 'Oregon', 'Pacific_Ocean', 'Palau', 'Palmyra_Atoll', 'Panama', 'Peace', 'People%27s_Republic_of_China', 'Peru', 'Petroleum', 'Philadelphia', 'Philippines', 'Plymouth', 'Poetry_of_the_United_States', 'Poland', 'Portugal', 'Potato', 'President_of_the_United_States', 'Property', 'Publishing', 'Puerto_Rico', 'Qatar', 'Religious_Society_of_Friends', 'Republic_of_China', 'Republic_of_Ireland', 'Republic_of_the_Congo', 'Rhode_Island', 'Rhythm_and_blues', 'Rice', 'Rocky_Mountains', 'Russia', 'S%C3%A3o_Tom%C3%A9_and_Pr%C3%ADncipe', 'Saint-Pierre_and_Miquelon', 'Saint_Kitts_and_Nevis', 'Saint_Lucia', 'Saint_Vincent_and_the_Grenadines', 'San_Francisco%2C_California', 'Seattle%2C_Washington', 'Senegal', 'September_11%2C_2001_attacks', 'Sequoia', 'Sierra_Leone', 'Sikhism', 'Singapore', 'Slovakia', 'South_Korea', 'Southern_United_States', 'Soviet_Union', 'Space_Shuttle_Columbia', 'Spain', 'Spanish_language', 'Sport', 'Steel', 'Sudan', 'Supreme_Court_of_the_United_States', 'Suriname', 'Sweden', 'Tanzania', 'Television', 'Tennis', 'Terrorism', 'Thailand', 'The_Bahamas', 'The_Gambia', 'Thomas_Jefferson', 'Time_zone', 'Togo', 'Tourism', 'Treaty_of_Versailles', 'Trinidad_and_Tobago', 'Turkey_%28bird%29', 'Turks_and_Caicos_Islands', 'U.S._state', 'United_Kingdom', 'United_Nations', 'United_States_Bill_of_Rights', 'United_States_Congress', 'United_States_Constitution', 'United_States_Declaration_of_Independence', 'United_States_House_of_Representatives', 'United_States_Senate', 'United_States_Virgin_Islands', 'United_States_dollar', 'Venezuela', 'Vietnam', 'Vietnam_War', 'Volcano', 'Wake_Island', 'Wall_Street', 'Walt_Whitman', 'War', 'Washington%2C_D.C.', 'West_Virginia', 'Western_Sahara', 'Wheat', 'World_Health_Organization', 'World_Heritage_Site', 'World_Trade_Organization', 'World_War_I', 'World_War_II', 'Yellowstone_National_Park']\n",
            "\n",
            "\n",
            "Vizinhos de France:\n",
            "['AIDS', 'Airbus', 'Airbus_A380', 'Algeria', 'Andorra', 'Antarctica', 'Arabic_language', 'Atlantic_Ocean', 'Australia', 'Belgium', 'Berber_languages', 'Brazil', 'British_Empire', 'Brussels', 'Buddhism', 'California', 'Charlemagne', 'China', 'Constitutional_monarchy', 'Country', 'Currency', 'Democracy', 'Eastern_Orthodox_Church', 'English_Channel', 'Euro', 'European_Union', 'Franks', 'French_Revolution', 'French_language', 'German_language', 'Germany', 'God', 'Indian_Ocean', 'Internet', 'Interpol', 'Islam', 'Italy', 'Japan', 'Judaism', 'Julius_Caesar', 'Kenya', 'Latin', 'Lille', 'List_of_countries_by_system_of_government', 'Louis_XIV_of_France', 'Luxembourg', 'Lyon', 'Maghreb', 'Marseille', 'Mediterranean_Sea', 'Middle_Ages', 'Monaco', 'Myanmar', 'Napoleon_I_of_France', 'Napoleonic_Wars', 'Netherlands_Antilles', 'New_Caledonia', 'North_America', 'North_Sea', 'Pacific_Ocean', 'Paris', 'Portuguese_language', 'Republic_of_Ireland', 'Rhine', 'River', 'Roman_Catholic_Church', 'Roman_Empire', 'Russia', 'South_America', 'Spain', 'Spanish_language', 'Sub-Saharan_Africa', 'Suriname', 'Switzerland', 'Thailand', 'Time_zone', 'Tunisia', 'United_Kingdom', 'United_Nations', 'United_States', 'Western_Roman_Empire', 'World_Bank_Group', 'World_War_I', 'World_War_II', 'Yemen']\n",
            "\n",
            "\n",
            "Vizinhos de France:\n",
            "['AIDS', 'Airbus', 'Airbus_A380', 'Algeria', 'Andorra', 'Antarctica', 'Arabic_language', 'Atlantic_Ocean', 'Australia', 'Belgium', 'Berber_languages', 'Brazil', 'British_Empire', 'Brussels', 'Buddhism', 'California', 'Charlemagne', 'China', 'Constitutional_monarchy', 'Country', 'Currency', 'Democracy', 'Eastern_Orthodox_Church', 'English_Channel', 'Euro', 'European_Union', 'Franks', 'French_Revolution', 'French_language', 'German_language', 'Germany', 'God', 'Indian_Ocean', 'Internet', 'Interpol', 'Islam', 'Italy', 'Japan', 'Judaism', 'Julius_Caesar', 'Kenya', 'Latin', 'Lille', 'List_of_countries_by_system_of_government', 'Louis_XIV_of_France', 'Luxembourg', 'Lyon', 'Maghreb', 'Marseille', 'Mediterranean_Sea', 'Middle_Ages', 'Monaco', 'Myanmar', 'Napoleon_I_of_France', 'Napoleonic_Wars', 'Netherlands_Antilles', 'New_Caledonia', 'North_America', 'North_Sea', 'Pacific_Ocean', 'Paris', 'Portuguese_language', 'Republic_of_Ireland', 'Rhine', 'River', 'Roman_Catholic_Church', 'Roman_Empire', 'Russia', 'South_America', 'Spain', 'Spanish_language', 'Sub-Saharan_Africa', 'Suriname', 'Switzerland', 'Thailand', 'Time_zone', 'Tunisia', 'United_Kingdom', 'United_Nations', 'United_States', 'Western_Roman_Empire', 'World_Bank_Group', 'World_War_I', 'World_War_II', 'Yemen']\n",
            "\n",
            "\n",
            "Vizinhos de Europe:\n",
            "['18th_century', 'Africa', 'Albania', 'Amsterdam', 'Ancient_Greece', 'Andorra', 'Anglicanism', 'Arabic_language', 'Arctic_Ocean', 'Armenia', 'Asia', 'Athens', 'Atlantic_Ocean', 'Austria', 'Azerbaijan', 'Baltic_Sea', 'Barcelona', 'Belarus', 'Belgium', 'Berlin', 'Berlin_Wall', 'Black_Sea', 'Bosnia_and_Herzegovina', 'Bratislava', 'British_Isles', 'Brussels', 'Bucharest', 'Budapest', 'Buddhism', 'Bulgaria', 'Byzantine_Empire', 'Capital', 'Carnivore', 'Caspian_Sea', 'Christianity', 'Cold_War', 'Communism', 'Copenhagen', 'Croatia', 'Crustacean', 'Culture', 'Cyprus', 'Czech_Republic', 'Dark_Ages', 'Democracy', 'Denmark', 'Dolphin', 'Dublin', 'Earth', 'England', 'Estonia', 'European_Union', 'Faroe_Islands', 'Finland', 'Fish', 'Flanders', 'Forest', 'Fox', 'France', 'French_Revolution', 'French_language', 'Geology', 'Georgia_%28country%29', 'Germany', 'Gibraltar', 'Greece', 'Greek_mythology', 'Greenland', 'Guernsey', 'Hawk', 'Hebrew_language', 'Helsinki', 'Herbivore', 'Hinduism', 'Holy_Roman_Empire', 'Homer', 'Hungary', 'Ice_age', 'Iceland', 'India', 'Industrial_Revolution', 'Iran', 'Iraq', 'Ireland', 'Islam', 'Isle_of_Man', 'Italy', 'Jackal', 'Jersey', 'Judaism', 'Kazakhstan', 'Kiev', 'Kosovo', 'Latin', 'Latvia', 'Liechtenstein', 'Lisbon', 'Lithuania', 'London', 'Luxembourg', 'Luxembourg_%28city%29', 'Madrid', 'Malta', 'Mammal', 'Mediterranean_Sea', 'Middle_Ages', 'Middle_East', 'Moldova', 'Monaco', 'Montenegro', 'Moscow', 'NATO', 'Napoleon_I_of_France', 'Netherlands', 'North_America', 'North_Sea', 'Northern_Ireland', 'Norway', 'Oslo', 'Ottoman_Empire', 'Owl', 'Paris', 'Poland', 'Portugal', 'Prague', 'Rainforest', 'Renaissance', 'Republic_of_Ireland', 'Republic_of_Macedonia', 'Romania', 'Rome', 'Russia', 'San_Marino', 'Sarajevo', 'Scotland', 'Serbia', 'Sikhism', 'Slovakia', 'Slovenia', 'Soviet_Union', 'Spain', 'Stockholm', 'Suez_Canal', 'Svalbard', 'Sweden', 'Switzerland', 'Syria', 'Turkey', 'Turkish_Republic_of_Northern_Cyprus', 'Ukraine', 'United_Kingdom', 'United_Nations', 'Vatican_City', 'Vienna', 'Wales', 'Warsaw', 'Wild_cat', 'World_War_II', 'Zeus']\n"
          ]
        }
      ],
      "source": [
        "# Questão 10: Selecione um artigo do top 5 do PageRank e analise sua vizinhança na rede.\n",
        "# Ele recebe links de que tipos de artigos? Para onde ele aponta? Isso explica sua alta importância?\n",
        "top_5_artigos = categorias.nlargest(5, 'pagerank')\n",
        "for index, row in top_5_artigos.iterrows():\n",
        "    article = row['article']\n",
        "    neighbors = list(G.neighbors(article))\n",
        "    print(\"\\n\\nVizinhos de {}:\".format(article))\n",
        "    print(neighbors)"
      ]
    },
    {
      "cell_type": "markdown",
      "metadata": {
        "id": "9KsiFwfWWU-h"
      },
      "source": [
        "United_States tem alta importância no PageRank porque recebe links de artigos de história, geografia, cultura e política, e também aponta para muitos desses temas, funcionando como hub central na rede."
      ]
    },
    {
      "cell_type": "code",
      "execution_count": null,
      "metadata": {
        "colab": {
          "base_uri": "https://localhost:8080/"
        },
        "id": "MSqO0IxjWW6k",
        "outputId": "70f3d8f9-09b0-4d12-bb82-32bc4ba47b05"
      },
      "outputs": [
        {
          "name": "stdout",
          "output_type": "stream",
          "text": [
            "                                 article  pagerank  in_degree  out_degree\n",
            "4861                       United_States  0.009559     1551.0       294.0\n",
            "4860                       United_States  0.009559     1551.0       294.0\n",
            "1628                              Europe  0.006335      933.0       159.0\n",
            "4854                      United_Kingdom  0.006230      972.0       168.0\n",
            "4855                      United_Kingdom  0.006230      972.0       168.0\n",
            "...                                  ...       ...        ...         ...\n",
            "2237             History_of_South_Africa  0.000064        5.0       105.0\n",
            "1465                   Economy_of_Africa  0.000055        3.0       101.0\n",
            "3622  Periodic_table_%28large_version%29  0.000037        1.0       118.0\n",
            "1412        Driving_on_the_left_or_right  0.000033        0.0       255.0\n",
            "2848                       List_of_lakes  0.000033        0.0       109.0\n",
            "\n",
            "[128 rows x 4 columns]\n"
          ]
        }
      ],
      "source": [
        "# Questão 11: Encontre um artigo que tenha alto grau de saída (muitos links para outros artigos) mas PageRank médio ou baixo.\n",
        "# O que isso nos diz sobre como o PageRank funciona?\n",
        "in_degree = dict(G.in_degree())\n",
        "out_degree = dict(G.out_degree())\n",
        "categorias['in_degree'] = categorias['article'].map(in_degree)\n",
        "categorias['out_degree'] = categorias['article'].map(out_degree)\n",
        "artigos_alto_grau_saida = categorias[categorias['out_degree'] > 100]\n",
        "artigos_alto_grau_saida = artigos_alto_grau_saida.sort_values(by='pagerank', ascending=False)\n",
        "print(artigos_alto_grau_saida[['article', 'pagerank', 'in_degree', 'out_degree']])"
      ]
    },
    {
      "cell_type": "markdown",
      "metadata": {
        "id": "gbJoB_ZbW_4Y"
      },
      "source": [
        "Alguns artigos, como “Driving_on_the_left_or_right” e “List_of_lakes”, têm alto grau de saída (mais de 100 links apontando para outros artigos), mas recebem poucos ou nenhum link de entrada, resultando em um PageRank baixo ou médio.\n",
        "\n",
        "Isso mostra que o PageRank mede a importância de um artigo com base nos links que ele recebe, e não na quantidade de links que ele faz. Um artigo pode apontar para muitos outros, mas se não for referenciado por artigos relevantes, seu PageRank permanece baixo."
      ]
    },
    {
      "cell_type": "code",
      "execution_count": null,
      "metadata": {
        "colab": {
          "base_uri": "https://localhost:8080/"
        },
        "id": "GPUS1ZL8XE1v",
        "outputId": "c979b277-c6e0-46f1-c029-1a51d967bb14"
      },
      "outputs": [
        {
          "name": "stdout",
          "output_type": "stream",
          "text": [
            "                                                article  pagerank\n",
            "1253                                           Currency  0.003235\n",
            "1032                                       Christianity  0.003016\n",
            "2468                                              Islam  0.002713\n",
            "3981                              Roman_Catholic_Church  0.002008\n",
            "1762                              Football_%28soccer%29  0.001787\n",
            "...                                                 ...       ...\n",
            "0            # Hierarchical categories of all articles.       NaN\n",
            "1     # Many articles have more than one category. S...       NaN\n",
            "3                        # FORMAT:   article   category       NaN\n",
            "500                                              Badugi       NaN\n",
            "2886                          Lone_Wolf_%28gamebooks%29       NaN\n",
            "\n",
            "[1171 rows x 2 columns]\n"
          ]
        }
      ],
      "source": [
        "# Questão 12: Identifique um artigo que seja \"ponte\" entre diferentes áreas de conhecimento.\n",
        "# Como sua posição na rede se reflete em seu PageRank?\n",
        "artigos_ponte = categorias[categorias['area_principal'].isnull()]\n",
        "artigos_ponte = artigos_ponte.sort_values(by='pagerank', ascending=False)\n",
        "print(artigos_ponte[['article', 'pagerank']])"
      ]
    },
    {
      "cell_type": "markdown",
      "metadata": {
        "id": "m7mTo5RRXEc2"
      },
      "source": [
        "Um exemplo é o artigo “Currency”, que conecta temas de Geografia, Economia e Sociedade. Ele atua como ponte entre diferentes áreas de conhecimento, recebendo links de artigos de várias categorias e apontando para muitos outros.\n",
        "\n",
        "Sua posição na rede, ligando diferentes clusters, faz com que ele tenha um PageRank relativamente alto, mesmo que não seja o artigo mais citado, porque recebe influência de múltiplas áreas, aumentando sua importância global na rede."
      ]
    },
    {
      "cell_type": "markdown",
      "metadata": {
        "id": "jOY59oQRXgXa"
      },
      "source": [
        "---\n",
        "\n",
        "Parte 5: Interpretação e Aplicações\n",
        "\n",
        "Questão 13: Baseado nos resultados, o PageRank mede \"importância\", \"popularidade\" ou \"autoridade\" no contexto de uma enciclopédia? Justifique com exemplos específicos dos seus resultados.\n",
        "\n",
        "Questão 14: Quais são as principais limitações do PageRank para este tipo de rede de conhecimento? Que fatores importantes sobre um artigo podem não ser capturados por esta métrica?\n",
        "\n",
        "Questão 15: Como os resultados desta análise poderiam ser aplicados para melhorar a experiência de usuários navegando pela Wikipedia? Que recomendações você faria?"
      ]
    },
    {
      "cell_type": "markdown",
      "metadata": {
        "id": "tNXL-lrUX9Nj"
      },
      "source": [
        "Questão 13: Baseado nos resultados, o PageRank mede \"importância\", \"popularidade\" ou \"autoridade\" no contexto de uma enciclopédia? Justifique com exemplos específicos dos seus resultados.\n",
        "\n",
        "O PageRank mede a importância estrutural dos artigos na rede de links. Artigos como “United_States” e “France” são importantes por receber muitos links, enquanto artigos com muitos links de saída, como “Driving_on_the_left_or_right”, têm PageRank baixo. Artigos que conectam áreas diferentes, como “Currency”, também ganham relevância, mostrando que PageRank captura centralidade e influência na rede, não apenas popularidade."
      ]
    },
    {
      "cell_type": "markdown",
      "metadata": {
        "id": "VJKoRpvbYM0Y"
      },
      "source": [
        "Questão 14: Quais são as principais limitações do PageRank para este tipo de rede de conhecimento? Que fatores importantes sobre um artigo podem não ser capturados por esta métrica?\n",
        "\n",
        "O PageRank apresenta limitações nesse tipo de rede de conhecimento porque considera apenas a estrutura de links entre os artigos, sem avaliar a qualidade ou a profundidade do conteúdo. Ele ignora o contexto semântico, ou seja, dois artigos podem estar ligados mesmo que não sejam relevantes entre si. Além disso, artigos com muitos links de saída podem ter seu score diluído, e conteúdos populares fora da rede ou recentes podem ser subestimados. Em suma, o PageRank mede centralidade estrutural, mas não reflete necessariamente autoridade, relevância ou importância informativa dos artigos."
      ]
    },
    {
      "cell_type": "markdown",
      "metadata": {
        "id": "OEt0cX2NYWcK"
      },
      "source": [
        "Questão 15: Como os resultados desta análise poderiam ser aplicados para melhorar a experiência de usuários navegando pela Wikipedia? Que recomendações você faria?\n",
        "\n",
        "Os resultados do PageRank podem ser usados para destacar artigos mais centrais ou influentes, ajudando usuários a encontrar conteúdos importantes rapidamente. Recomenda-se, por exemplo, sugerir links relacionados de alto PageRank nas páginas, criar rankings ou listas de artigos essenciais por área de conhecimento e otimizar a navegação entre tópicos conectados. Além disso, identificar “pontes” entre áreas permite oferecer percursos educativos interdisciplinares, conectando conceitos e facilitando a exploração de temas correlatos de forma mais intuitiva."
      ]
    },
    {
      "cell_type": "markdown",
      "metadata": {
        "id": "paLKFYa7GBxE"
      },
      "source": [
        "---\n",
        "\n",
        "Dataset: WikiSpeedia - Snap Stanford University\n",
        "\n",
        "SNAP: Web data: Wikispeedia navigation paths\n",
        "\n",
        "Foco: Análise de Centralidade em Redes de Conhecimento"
      ]
    }
  ],
  "metadata": {
    "colab": {
      "provenance": []
    },
    "kernelspec": {
      "display_name": "Python 3",
      "name": "python3"
    },
    "language_info": {
      "name": "python"
    }
  },
  "nbformat": 4,
  "nbformat_minor": 0
}
