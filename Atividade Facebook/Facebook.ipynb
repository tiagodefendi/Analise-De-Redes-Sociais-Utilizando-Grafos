{
  "nbformat": 4,
  "nbformat_minor": 0,
  "metadata": {
    "colab": {
      "provenance": []
    },
    "kernelspec": {
      "name": "python3",
      "display_name": "Python 3"
    },
    "language_info": {
      "name": "python"
    }
  },
  "cells": [
    {
      "cell_type": "markdown",
      "source": [
        "Atividade: Investigação Forense em Redes Sociais\n",
        "\n",
        "Subtítulo: Quem são os personagens mais importantes desta rede?\n",
        "\n",
        "Instruções:\n",
        "1. Vocês receberam um dataset de conexões de amizade de uma rede social. (SNAP: Network datasets: Social circles)"
      ],
      "metadata": {
        "id": "KDK8huFt4C7S"
      }
    },
    {
      "cell_type": "code",
      "source": [
        "import networkx as nx"
      ],
      "metadata": {
        "id": "TZLfoQrp4Jrj"
      },
      "execution_count": null,
      "outputs": []
    },
    {
      "cell_type": "code",
      "source": [
        "G = nx.read_edgelist(\"./facebook_combined.txt\")"
      ],
      "metadata": {
        "id": "AjGqMFM57Nwi"
      },
      "execution_count": null,
      "outputs": []
    },
    {
      "cell_type": "markdown",
      "source": [
        "2. Missão: Usar os algoritmos de centralidade (grau e intermediação e proximidade) para identificar os 10 nós mais importantes desta rede."
      ],
      "metadata": {
        "id": "pCfl-eVl7jue"
      }
    },
    {
      "cell_type": "code",
      "source": [
        "# Centralidade de Grau\n",
        "G_degree = nx.degree_centrality(G)\n",
        "\n",
        "top_10_degree = sorted(G_degree.items(), key=lambda x: x[1], reverse=True)[:10]\n",
        "print(\"Top 10 nós por centralidade de grau:\")\n",
        "for node, centrality in top_10_degree:\n",
        "    print(f\"{node}: {centrality:.4f}\")"
      ],
      "metadata": {
        "colab": {
          "base_uri": "https://localhost:8080/"
        },
        "id": "aXR4xC-Q7T8j",
        "outputId": "f3cdd7ba-cc62-4178-aa43-8d74d9510de4"
      },
      "execution_count": null,
      "outputs": [
        {
          "output_type": "stream",
          "name": "stdout",
          "text": [
            "Top 10 nós por centralidade de grau:\n",
            "107: 0.2588\n",
            "1684: 0.1961\n",
            "1912: 0.1870\n",
            "3437: 0.1355\n",
            "0: 0.0859\n",
            "2543: 0.0728\n",
            "2347: 0.0721\n",
            "1888: 0.0629\n",
            "1800: 0.0607\n",
            "1663: 0.0582\n"
          ]
        }
      ]
    },
    {
      "cell_type": "code",
      "source": [
        "# Centralidade de Intermediação\n",
        "G_betweenness = nx.betweenness_centrality(G)\n",
        "\n",
        "top_10_betweenness = sorted(G_betweenness.items(), key=lambda x: x[1], reverse=True)[:10]\n",
        "print(\"Top 10 nós por centralidade de intermediação:\")\n",
        "for node, centrality in top_10_betweenness:\n",
        "    print(f\"{node}: {centrality:.4f}\")"
      ],
      "metadata": {
        "colab": {
          "base_uri": "https://localhost:8080/"
        },
        "id": "8DWUYA8G8qWj",
        "outputId": "860e64c3-5f6f-44f8-ddd4-41f25fb05429"
      },
      "execution_count": null,
      "outputs": [
        {
          "output_type": "stream",
          "name": "stdout",
          "text": [
            "Top 10 nós por centralidade de intermediação:\n",
            "107: 0.4805\n",
            "1684: 0.3378\n",
            "3437: 0.2361\n",
            "1912: 0.2293\n",
            "1085: 0.1490\n",
            "0: 0.1463\n",
            "698: 0.1153\n",
            "567: 0.0963\n",
            "58: 0.0844\n",
            "428: 0.0643\n"
          ]
        }
      ]
    },
    {
      "cell_type": "code",
      "source": [
        "# Centralidade de Proximidade\n",
        "G_closeness = nx.closeness_centrality(G)\n",
        "\n",
        "top_10_closeness = sorted(G_closeness.items(), key=lambda x: x[1], reverse=True)[:10]\n",
        "print(\"Top 10 nós por centralidade de proximidade:\")\n",
        "for node, centrality in top_10_closeness:\n",
        "    print(f\"{node}: {centrality:.4f}\")"
      ],
      "metadata": {
        "colab": {
          "base_uri": "https://localhost:8080/"
        },
        "id": "xFEeY46k-EL_",
        "outputId": "82880032-478a-426d-950f-0d0d48aabb42"
      },
      "execution_count": null,
      "outputs": [
        {
          "output_type": "stream",
          "name": "stdout",
          "text": [
            "Top 10 nós por centralidade de proximidade:\n",
            "107: 0.4597\n",
            "58: 0.3974\n",
            "428: 0.3948\n",
            "563: 0.3939\n",
            "1684: 0.3936\n",
            "171: 0.3705\n",
            "348: 0.3699\n",
            "483: 0.3698\n",
            "414: 0.3695\n",
            "376: 0.3666\n"
          ]
        }
      ]
    },
    {
      "cell_type": "code",
      "source": [
        "# Calculando o 10 nós mais importantes\n",
        "top_10_nodes = {}\n",
        "\n",
        "# Função para acumular centralidades\n",
        "def update_top_nodes(centrality_list):\n",
        "    for node, centrality in centrality_list:\n",
        "        if node in top_10_nodes:\n",
        "            top_10_nodes[node] += centrality\n",
        "        else:\n",
        "            top_10_nodes[node] = centrality\n",
        "\n",
        "# Atualiza com cada tipo de centralidade\n",
        "update_top_nodes(top_10_degree)\n",
        "update_top_nodes(top_10_betweenness)\n",
        "update_top_nodes(top_10_closeness)\n",
        "\n",
        "# Definindo os 10 mais importantes\n",
        "top_10_nodes = sorted(top_10_nodes.items(), key=lambda x: x[1], reverse=True)[:10]\n",
        "\n",
        "print(\"Top 10 nós mais importantes:\")\n",
        "for node, centrality in top_10_nodes:\n",
        "    print(f\"{node}: {centrality:.4f}\")"
      ],
      "metadata": {
        "colab": {
          "base_uri": "https://localhost:8080/"
        },
        "id": "gPAgYAj8-FUX",
        "outputId": "9ca78d55-f03d-48d7-99ed-b3e09cca2085"
      },
      "execution_count": null,
      "outputs": [
        {
          "output_type": "stream",
          "name": "stdout",
          "text": [
            "Top 10 nós mais importantes:\n",
            "107: 1.1990\n",
            "1684: 0.9275\n",
            "58: 0.4818\n",
            "428: 0.4591\n",
            "1912: 0.4163\n",
            "563: 0.3939\n",
            "3437: 0.3716\n",
            "171: 0.3705\n",
            "348: 0.3699\n",
            "483: 0.3698\n"
          ]
        }
      ]
    },
    {
      "cell_type": "markdown",
      "source": [
        "3. Gerar uma visualização para cada centralidade (com os nós mais centrais destacados)"
      ],
      "metadata": {
        "id": "0MNSADv9KO0z"
      }
    },
    {
      "cell_type": "code",
      "source": [],
      "metadata": {
        "id": "mujDkcgvBwyy"
      },
      "execution_count": null,
      "outputs": []
    }
  ]
}